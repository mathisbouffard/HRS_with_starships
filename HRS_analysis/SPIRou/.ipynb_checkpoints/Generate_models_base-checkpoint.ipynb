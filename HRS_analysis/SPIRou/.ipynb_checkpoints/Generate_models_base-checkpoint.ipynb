{
 "cells": [
  {
   "cell_type": "markdown",
   "id": "53f3576f",
   "metadata": {},
   "source": [
    "# Create model with PetitRadtrans"
   ]
  },
  {
   "cell_type": "markdown",
   "id": "df408588-ee06-4720-abb9-1c029396bebc",
   "metadata": {
    "jp-MarkdownHeadingCollapsed": true,
    "tags": []
   },
   "source": [
    "## Imports"
   ]
  },
  {
   "cell_type": "code",
   "execution_count": 1,
   "id": "50839de1",
   "metadata": {},
   "outputs": [],
   "source": [
    "from sys import path\n",
    "path.append('/home/mathisb/Github/')\n",
    "\n",
    "import os\n",
    "os.environ['pRT_input_data_path'] = '/home/mathisb/projects/def-ncowan/input_data'"
   ]
  },
  {
   "cell_type": "code",
   "execution_count": 2,
   "id": "f0061164",
   "metadata": {},
   "outputs": [],
   "source": [
    "import numpy as np\n",
    "import matplotlib.pyplot as plt"
   ]
  },
  {
   "cell_type": "code",
   "execution_count": 3,
   "id": "2f71bcc1",
   "metadata": {},
   "outputs": [],
   "source": [
    "%matplotlib  inline"
   ]
  },
  {
   "cell_type": "code",
   "execution_count": 4,
   "id": "0868154f",
   "metadata": {},
   "outputs": [],
   "source": [
    "from astropy import constants as const\n",
    "from astropy import units as u\n",
    "\n",
    "from starships.planet_obs import Planet\n",
    "\n",
    "import starships.petitradtrans_utils as prt\n",
    "from petitRADTRANS.physics import guillot_global\n",
    "from petitRADTRANS import Radtrans\n",
    "\n",
    "import gc\n",
    "from starships.spectrum import RotKerTransitCloudy\n",
    "\n",
    "from astropy.modeling.physical_models import BlackBody as bb"
   ]
  },
  {
   "cell_type": "markdown",
   "id": "b0e895fc-2145-4889-965c-64bf0d9e0e25",
   "metadata": {
    "tags": []
   },
   "source": [
    "## Planet info"
   ]
  },
  {
   "cell_type": "code",
   "execution_count": 5,
   "id": "ee1088f3",
   "metadata": {},
   "outputs": [
    {
     "name": "stdout",
     "output_type": "stream",
     "text": [
      "Getting TRAPPIST-1 b from ExoFile\n"
     ]
    },
    {
     "name": "stderr",
     "output_type": "stream",
     "text": [
      "/home/mathisb/HighRes/lib/python3.9/site-packages/exofile/archive.py:351: GetLocalFileWarning: DID NOT READ CUSTOM FILE. FileNotFoundError has occur when trying to query/read custom file.\n",
      "  warn(GetLocalFileWarning(file=\"custom file\", err=e))\n",
      "/home/mathisb/HighRes/lib/python3.9/site-packages/astropy/units/quantity.py:486: RuntimeWarning: divide by zero encountered in true_divide\n",
      "  result = super().__array_ufunc__(function, method, *arrays, **kwargs)\n"
     ]
    }
   ],
   "source": [
    "# Specify planet name and parameters\n",
    "# If not specified, the default parameters from exofile are taken.\n",
    "\n",
    "pl_name = 'TRAPPIST-1 b'\n",
    "planet_obj = Planet(pl_name)\n",
    "\n",
    "# Most parameters are from trappist.one website\n",
    "ap     = 0.01150*u.au       # semi-major axis of planet\n",
    "R_star = 0.121*u.R_sun      # radius of star\n",
    "R_pl   = 1.127*u.R_earth    # radius of planet\n",
    "M_star = 0.089*const.M_sun  # mass of star\n",
    "e      = 0                  # eccentricity\n",
    "w      = 4.712389*u.rad     # argument of periapsis (equal to 270 degrees)\n",
    "mid_tr = 2459514.805984833954*u.d  # mid-transit time (calculated from TTV BJD, Agol et al. 2021)"
   ]
  },
  {
   "cell_type": "markdown",
   "id": "6dc05d5b-1398-4e45-ae57-765919260ad3",
   "metadata": {},
   "source": [
    "## Create model"
   ]
  },
  {
   "cell_type": "markdown",
   "id": "bb0adf59-b4a1-408d-b822-fdefed882015",
   "metadata": {},
   "source": [
    "### H2O only"
   ]
  },
  {
   "cell_type": "code",
   "execution_count": 6,
   "id": "38129bda",
   "metadata": {},
   "outputs": [],
   "source": [
    "# Molecules to include in the model (one at a time)\n",
    "molecules = ['H2O']\n",
    "\n",
    "# Name of the linelists in petitradTRANS (see petitradtrans_utils.py lines 115-150)\n",
    "mols_linelists = {'H2O': 'H2O_main_iso'}\n",
    "\n",
    "# Priors for abundances (comment out if don't know abundances a priori)\n",
    "# mol_vmr_log_save = {'H2O': -10.460962699336015,\n",
    "#                     'CO': -4.5809756604704672,\n",
    "#                     'CO2': -9.32730066887895,\n",
    "#                     'FeH': -9.924607502078075,\n",
    "#                     'TiO': -7.2940528637809345,\n",
    "#                     'VO': -7.878547571395368,\n",
    "#                     'C2H2': -7.86252539345477,\n",
    "#                     'HCN': -7.059113617089739,\n",
    "#                     'OH': -4.42793780398837,\n",
    "#                     'H-': -8.672778478857413}"
   ]
  },
  {
   "cell_type": "code",
   "execution_count": 9,
   "id": "15ea4bb9",
   "metadata": {},
   "outputs": [
    {
     "name": "stdout",
     "output_type": "stream",
     "text": [
      "['H2O_main_iso']\n",
      "  Read line opacities of H2O_main_iso...\n",
      " Done.\n",
      "\n",
      "  Read CIA opacities for H2-H2...\n",
      "  Read CIA opacities for H2-He...\n",
      "Done.\n",
      "\n",
      "Generating atmosphere with pressures from 100.0 to 1e-10\n",
      "You are not getting the individual contributions of the species\n"
     ]
    }
   ],
   "source": [
    "# Pull parameters from petitradTRANS\n",
    "# Check limP and wl_range\n",
    "atmos_high, pressures = prt.gen_atm_all([mols_linelists[key] for key in molecules],\n",
    "                                        continuum_opacities=['H-'],\n",
    "                                        limP=[-10, 2],  # log of TOA and surface pressure (unit: bar)\n",
    "                                        n_pts=50, \n",
    "                                        mode='lbl',\n",
    "                                        lbl_opacity_sampling=4,\n",
    "                                        wl_range=[0.95, 2.35])  # wavelength range of instrument (unit: micrometers)"
   ]
  },
  {
   "cell_type": "markdown",
   "id": "6c6c4039-7dc1-4d40-bb05-17c2d6f96af4",
   "metadata": {},
   "source": [
    "# WORK ON IT FROM HERE\n",
    "## Get 1 notebook per planet\n",
    "## In a notebook, have 1 section per model molecule"
   ]
  },
  {
   "cell_type": "code",
   "execution_count": 39,
   "id": "46bf74e7",
   "metadata": {},
   "outputs": [
    {
     "data": {
      "image/png": "[encoded data removed]",
      "text/plain": [
       "<Figure size 640x480 with 1 Axes>"
      ]
     },
     "metadata": {},
     "output_type": "display_data"
    }
   ],
   "source": [
    "\n",
    "\n",
    "\n",
    "\n",
    "# CHANGE THIS (ask vignesh for good parameters)\n",
    "#------------------------\n",
    "T_int = 500.  # temp of interior of planet -- temperature of surface\n",
    "T_eq = 3500.  # equilibrium temp of planet\n",
    "\n",
    "radius = 1.5*const.R_jup\n",
    "#------------------------\n",
    "\n",
    "log_gamma = 0.5  # put opposite sign on this and log_kappa to inverse temp-pressure profile\n",
    "log_kappa = -0.5\n",
    "\n",
    "#------------------------\n",
    "\n",
    "for log_kappa in [-1]:\n",
    "    gravity = planet_obj.gp.cgs.value \n",
    "    kappa_IR = 10**(log_kappa)\n",
    "    gamma = 10**log_gamma\n",
    "\n",
    "\n",
    "    temp_params = {}\n",
    "    temp_params['pressures'] = pressures\n",
    "    temp_params['kappa_IR'] = kappa_IR\n",
    "    temp_params['gamma'] = gamma\n",
    "    temp_params['gravity'] = (const.G * planet_obj.M_pl / (radius)**2).cgs.value\n",
    "    temp_params['T_int'] = T_int\n",
    "    temp_params['T_eq'] = T_eq\n",
    "    temp_params['M_pl'] = planet_obj.M_pl\n",
    "\n",
    "    P0=10 *u.mbar.to(u.bar)  # pressure on the surface \n",
    "    # log_P0 = np.log10(P0)\n",
    "\n",
    "    temperatures_day = guillot_global(temp_params['pressures'], \n",
    "                             temp_params['kappa_IR'], \n",
    "                             temp_params['gamma'], \n",
    "                             temp_params['gravity'], \n",
    "                             temp_params['T_int'], \n",
    "                             temp_params['T_eq'])\n",
    "    plt.plot(temperatures_day, np.log10(pressures))         # MAKE THIS PLOT NICER\n",
    "    plt.ylim(1,-6)"
   ]
  },
  {
   "cell_type": "markdown",
   "id": "3f3573c2",
   "metadata": {},
   "source": [
    "## Generating and plotting"
   ]
  },
  {
   "cell_type": "code",
   "execution_count": 40,
   "id": "a38a0a26",
   "metadata": {},
   "outputs": [],
   "source": [
    "%matplotlib inline"
   ]
  },
  {
   "cell_type": "code",
   "execution_count": 46,
   "id": "39be6925",
   "metadata": {},
   "outputs": [
    {
     "name": "stdout",
     "output_type": "stream",
     "text": [
      " pRT: negative radius correction applied!\n"
     ]
    },
    {
     "data": {
      "image/png": "[encoded data removed]",
      "text/plain": [
       "<Figure size 640x480 with 1 Axes>"
      ]
     },
     "metadata": {},
     "output_type": "display_data"
    }
   ],
   "source": [
    "# Pressure zero\n",
    "P0=10e-3  # don't change\n",
    "\n",
    "cloud = None  # change if necessary\n",
    "\n",
    "# Define abundances we want in model\n",
    "# Only put molecules chosen earlier\n",
    "# -2 = 0.02 fraction in atmosphere\n",
    "# Negligible = -99\n",
    "mol_vmr_log = {'H2O':1,\n",
    "               'H-':-2,\n",
    "               'e-':-8}  # don't change or remove\n",
    "\n",
    "# species_high = species_high0.copy()\n",
    "species_high = {mols_linelists[mol_name]: 10**(mol_vmr_log[mol_name])\n",
    "                for mol_name in molecules}\n",
    "\n",
    "species_high[\"H-\"] = 1e-6  # don't change\n",
    "\n",
    "wlen, flux_lambda = prt.retrieval_model_plain(atmos_high,\n",
    "                                              species_high,\n",
    "                                              planet_obj,\n",
    "                                              pressures,\n",
    "                                              temperatures_day,\n",
    "                                              temp_params['gravity'],\n",
    "                                              P0,\n",
    "                                              cloud,\n",
    "                                              planet_obj.R_pl.cgs.value,\n",
    "                                              planet_obj.R_star.cgs.value,\n",
    "                                              dissociation=False,\n",
    "                                              plot_abundance=True,\n",
    "                                              kind_trans='transmission')\n",
    "\n",
    "wave_mod, model_spec_cont = prt.prepare_model(wlen, flux_lambda, 250000, Raf=64000, rot_params=None)\n",
    "plt.plot(wave_mod, model_spec_cont)\n",
    "plt.show()"
   ]
  },
  {
   "cell_type": "code",
   "execution_count": 45,
   "id": "1b729bdb",
   "metadata": {},
   "outputs": [
    {
     "data": {
      "text/plain": [
       "[<matplotlib.lines.Line2D at 0x1497ec38b070>]"
      ]
     },
     "execution_count": 45,
     "metadata": {},
     "output_type": "execute_result"
    },
    {
     "data": {
      "image/png": "[encoded data removed]",
      "text/plain": [
       "<Figure size 640x480 with 1 Axes>"
      ]
     },
     "metadata": {},
     "output_type": "display_data"
    }
   ],
   "source": [
    "P0=10e-3\n",
    "\n",
    "cloud = None\n",
    "\n",
    "mol_vmr_log = {\"H2O\":5,\n",
    "               \"H-\":-2,\n",
    "               \"e-\":-8,}\n",
    "\n",
    "\n",
    "species_high = {mols_linelists[mol_name]: 10**(mol_vmr_log[mol_name])\n",
    "                for mol_name in molecules}\n",
    "\n",
    "species_high[\"H-\"] = 1e-6\n",
    "\n",
    "wlen, flux_lambda = prt.retrieval_model_plain(atmos_high,\n",
    "                                              species_high,\n",
    "                                              planet_obj,\n",
    "                                              pressures,\n",
    "                                              temperatures_day,\n",
    "                                              temp_params[\"gravity\"],\n",
    "                                              P0,\n",
    "                                              cloud,\n",
    "                                              planet_obj.R_pl.cgs.value,\n",
    "                                              planet_obj.R_star.cgs.value,\n",
    "                                              kind_trans=\"transmission\")\n",
    "\n",
    "wave_mod, model_spec_co_day = prt.prepare_model(wlen, flux_lambda, 250000, Raf=64000, rot_params=None)\n",
    "plt.plot(wave_mod, model_spec_co_day)"
   ]
  },
  {
   "cell_type": "code",
   "execution_count": 47,
   "id": "cd471121",
   "metadata": {},
   "outputs": [
    {
     "data": {
      "image/png": "[encoded data removed]",
      "text/plain": [
       "<Figure size 640x480 with 3 Axes>"
      ]
     },
     "metadata": {},
     "output_type": "display_data"
    }
   ],
   "source": [
    "list_wv_range = [(1.17, 1.25), (1.55, 1.9), (2.33, 3.)]\n",
    "\n",
    "fig, ax = plt.subplots(len(list_wv_range), 1)\n",
    "\n",
    "try:\n",
    "    len(ax)\n",
    "except TypeError:\n",
    "    ax = [ax]\n",
    "\n",
    "for ax_i, wv_rng in  zip(ax, list_wv_range):\n",
    "    cond = (wv_rng[0] < wave_mod) & (wave_mod < wv_rng[-1])\n",
    "    ax_i.plot(wave_mod[cond], (model_spec_co_day/model_spec_cont)[cond])\n",
    "\n",
    "plt.show()"
   ]
  },
  {
   "cell_type": "code",
   "execution_count": 50,
   "id": "f760ad09",
   "metadata": {},
   "outputs": [],
   "source": [
    "np.savez('/home/mathisb/Github/HRS_models/test_mod_TRAPPIST-1_mixed_CO_main_iso', wave_mod=wave_mod, model_spec=model_spec_co_day)"
   ]
  },
  {
   "cell_type": "code",
   "execution_count": null,
   "id": "70d2c23b",
   "metadata": {},
   "outputs": [],
   "source": []
  }
 ],
 "metadata": {
  "kernelspec": {
   "display_name": "HighRes",
   "language": "python",
   "name": "highres"
  },
  "language_info": {
   "codemirror_mode": {
    "name": "ipython",
    "version": 3
   },
   "file_extension": ".py",
   "mimetype": "text/x-python",
   "name": "python",
   "nbconvert_exporter": "python",
   "pygments_lexer": "ipython3",
   "version": "3.9.6"
  }
 },
 "nbformat": 4,
 "nbformat_minor": 5
}
