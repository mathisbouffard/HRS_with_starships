{
 "cells": [
  {
   "cell_type": "markdown",
   "id": "0583c12e-da35-4f2f-93d2-f3bbac925ca8",
   "metadata": {},
   "source": [
    "# CHANGE FILE PATHS EVERYWHERE (Reduce, Plot, Generate, Correlations) TO INCLUDE NIGHT OF OBSERVATION"
   ]
  },
  {
   "cell_type": "markdown",
   "id": "6524a981-20be-4c62-9514-a91fc2df97a3",
   "metadata": {
    "tags": []
   },
   "source": [
    "# Imports"
   ]
  },
  {
   "cell_type": "code",
   "execution_count": 1,
   "id": "7a673858",
   "metadata": {},
   "outputs": [],
   "source": [
    "# Add the directory where starships' directory is located\n",
    "from sys import path\n",
    "path.append('/home/mathisb/Github/')\n",
    "\n",
    "# Add the directory containing the input data (opacity, abundance and stellar specs files)\n",
    "import os\n",
    "os.environ['pRT_input_data_path'] = '/home/mathisb/projects/def-ncowan/input_data'"
   ]
  },
  {
   "cell_type": "code",
   "execution_count": 2,
   "id": "68ebd414-fdbb-42b4-ac78-88b878f50e47",
   "metadata": {},
   "outputs": [],
   "source": [
    "from pathlib import Path\n",
    "\n",
    "import matplotlib.pyplot as plt\n",
    "import starships.homemade as hm\n",
    "from starships import spectrum as spectrum\n",
    "from starships.mask_tools import interp1d_masked\n",
    "\n",
    "interp1d_masked.iprint=False\n",
    "import warnings\n",
    "\n",
    "import astropy.constants as const\n",
    "import astropy.units as u\n",
    "import numpy as np\n",
    "import starships.planet_obs as pl_obs\n",
    "import starships.plotting_fcts as pf\n",
    "from starships.planet_obs import Observations\n",
    "\n",
    "warnings.simplefilter(\"ignore\", UserWarning)\n",
    "warnings.simplefilter(\"ignore\", RuntimeWarning)"
   ]
  },
  {
   "cell_type": "markdown",
   "id": "de1e8848",
   "metadata": {},
   "source": [
    "# Read spectra and useful quantities"
   ]
  },
  {
   "cell_type": "markdown",
   "id": "c84b4efb",
   "metadata": {},
   "source": [
    "## Note: Better to use the scratch space to save the reductions.\n",
    "You have infinite space, but the files are deleted if untouched for 2 months. It allows to save as many reductions as desired. Once the correct reduction parameters are set, you can move them into your home directory."
   ]
  },
  {
   "cell_type": "code",
   "execution_count": 3,
   "id": "d668e042",
   "metadata": {},
   "outputs": [],
   "source": [
    "#--------------------------------------------------------------------------------------------\n",
    "# Planet, night, reduction and instrument\n",
    "pl_name = 'TRAPPIST-1 b'\n",
    "visit_name = '2019-06-14'\n",
    "reduction = 'v001'\n",
    "instrument = \"SPIRou\"\n",
    "\n",
    "#--------------------------------------------------------------------------------------------\n",
    "\n",
    "# Directory where to save reductions\n",
    "# > use scratch if available, use home if not\n",
    "try:\n",
    "    out_dir = Path(os.environ['SCRATCH'])\n",
    "except KeyError:\n",
    "    out_dir = Path.home()\n",
    "\n",
    "# Output reductions in dedicated directory\n",
    "pl_name_fname = ''.join(pl_name.split())\n",
    "out_dir /= Path(f'HRS_reductions/{instrument}/{pl_name_fname}/{visit_name}/{reduction}')\n",
    "# Make sure the  directory exists\n",
    "out_dir.mkdir(parents=True, exist_ok=True)\n"
   ]
  },
  {
   "cell_type": "code",
   "execution_count": 4,
   "id": "a1176ed8-2aad-4b93-b00c-23c56ca65ee1",
   "metadata": {},
   "outputs": [],
   "source": [
    "# Relevant directories\n",
    "\n",
    "# Where to find the observations (data)?\n",
    "obs_dir = f\"/home/mathisb/Github/HRS_data/{instrument}/TRAPPIST-1/{visit_name}/\"  # for TRAPPIST-1 SPIRou data\n",
    "\n",
    "# Where to save figures?\n",
    "path_fig = Path(f'HRS_reductions/{instrument}/{pl_name_fname}/{visit_name}/Figures')"
   ]
  },
  {
   "cell_type": "code",
   "execution_count": 5,
   "id": "7e1c0e6c-1573-4f5f-8269-13f58174b746",
   "metadata": {},
   "outputs": [],
   "source": [
    "# Get all the filenames for e2ds, tcorr and recon files. Copy these in text files to be used in the cell below.\n",
    "\n",
    "# # ed2s\n",
    "# for i in sorted(os.listdir(obs_dir)):\n",
    "#     if i[-6:] == \"e.fits\":\n",
    "#         print(i)\n",
    "\n",
    "# # tcorr\n",
    "# for i in sorted(os.listdir(obs_dir)):\n",
    "#     if i[-6:] == \"t.fits\":\n",
    "#         print(i)\n",
    "\n",
    "# # recon\n",
    "# for i in sorted(os.listdir(obs_dir)):\n",
    "#     if i[-10:] == \"RECON.fits\":\n",
    "#         print(i)\n"
   ]
  },
  {
   "cell_type": "code",
   "execution_count": 6,
   "id": "74212d71",
   "metadata": {},
   "outputs": [],
   "source": [
    "# All the observations must be listed in files.\n",
    "# We need the e2ds, the telluric corrected and the reconstructed spectra.\n",
    "\n",
    "list_filenames = {'list_e2ds': 'list_e2ds.txt',\n",
    "                  'list_tcorr': 'list_tcorr.txt',\n",
    "                  'list_recon': 'list_recon.txt'}"
   ]
  },
  {
   "cell_type": "code",
   "execution_count": 7,
   "id": "ce274860",
   "metadata": {},
   "outputs": [
    {
     "name": "stdout",
     "output_type": "stream",
     "text": [
      "Getting TRAPPIST-1 b from ExoFile\n"
     ]
    },
    {
     "name": "stderr",
     "output_type": "stream",
     "text": [
      "INFO:starships.planet_obs:Fetching the uncorrected spectra\n",
      "INFO:starships.planet_obs:File: list_e2ds.txt\n"
     ]
    },
    {
     "name": "stdout",
     "output_type": "stream",
     "text": [
      "Changing M_star from [1.5907279e+29] kg to 1.769684784921265e+29 kg\n",
      "It became [1.76968478e+29] kg\n",
      "Changing R_star from [0.] m to 0.121 solRad\n",
      "It became [84179700.] m\n",
      "Changing ap from [1.72546184e+09] m to 0.0115 AU\n",
      "It became [1.72037551e+09] m\n",
      "Changing R_pl from [6934724.] m to 1.127 earthRad\n",
      "It became [7188118.7] m\n",
      "Changing mid_tr from [2457322.514193] d to 2458649.07123219 d\n",
      "It became [2458649.07123219] d\n",
      "Changing excent from pl_orbeccen\n",
      "-----------\n",
      "    0.00622 to 0\n",
      "It became 0\n",
      "Changing w from [10.5917051] rad to 4.712389 rad\n",
      "It became [4.712389] rad\n"
     ]
    },
    {
     "ename": "IndexError",
     "evalue": "list index out of range",
     "output_type": "error",
     "traceback": [
      "\u001b[0;31m---------------------------------------------------------------------------\u001b[0m",
      "\u001b[0;31mIndexError\u001b[0m                                Traceback (most recent call last)",
      "Cell \u001b[0;32mIn[7], line 29\u001b[0m\n\u001b[1;32m     19\u001b[0m obs \u001b[38;5;241m=\u001b[39m Observations(name\u001b[38;5;241m=\u001b[39mpl_name, \n\u001b[1;32m     20\u001b[0m                    pl_kwargs \u001b[38;5;241m=\u001b[39m {\u001b[38;5;124m'\u001b[39m\u001b[38;5;124mM_star\u001b[39m\u001b[38;5;124m'\u001b[39m: M_star, \n\u001b[1;32m     21\u001b[0m                                 \u001b[38;5;124m'\u001b[39m\u001b[38;5;124mR_star\u001b[39m\u001b[38;5;124m'\u001b[39m: R_star,\n\u001b[0;32m   (...)\u001b[0m\n\u001b[1;32m     25\u001b[0m                                 \u001b[38;5;124m'\u001b[39m\u001b[38;5;124mexcent\u001b[39m\u001b[38;5;124m'\u001b[39m: e,\n\u001b[1;32m     26\u001b[0m                                 \u001b[38;5;124m'\u001b[39m\u001b[38;5;124mw\u001b[39m\u001b[38;5;124m'\u001b[39m: w})\n\u001b[1;32m     28\u001b[0m \u001b[38;5;66;03m# Get the data\u001b[39;00m\n\u001b[0;32m---> 29\u001b[0m \u001b[43mobs\u001b[49m\u001b[38;5;241;43m.\u001b[39;49m\u001b[43mfetch_data\u001b[49m\u001b[43m(\u001b[49m\u001b[43mobs_dir\u001b[49m\u001b[43m,\u001b[49m\u001b[43m \u001b[49m\u001b[38;5;241;43m*\u001b[39;49m\u001b[38;5;241;43m*\u001b[39;49m\u001b[43mlist_filenames\u001b[49m\u001b[43m)\u001b[49m\n\u001b[1;32m     30\u001b[0m p \u001b[38;5;241m=\u001b[39m obs\u001b[38;5;241m.\u001b[39mplanet\n\u001b[1;32m     32\u001b[0m \u001b[38;5;66;03m# Verify that the info is good\u001b[39;00m\n",
      "File \u001b[0;32m~/Github/starships/planet_obs.py:803\u001b[0m, in \u001b[0;36mObservations.fetch_data\u001b[0;34m(self, path, CADC, list_e2ds, list_tcorr, list_recon, read_sp, **kwargs)\u001b[0m\n\u001b[1;32m    800\u001b[0m log\u001b[38;5;241m.\u001b[39minfo(\u001b[38;5;124m\"\u001b[39m\u001b[38;5;124mFetching the uncorrected spectra\u001b[39m\u001b[38;5;124m\"\u001b[39m)\n\u001b[1;32m    801\u001b[0m log\u001b[38;5;241m.\u001b[39minfo(\u001b[38;5;124mf\u001b[39m\u001b[38;5;124m\"\u001b[39m\u001b[38;5;124mFile: \u001b[39m\u001b[38;5;132;01m{\u001b[39;00mlist_e2ds\u001b[38;5;132;01m}\u001b[39;00m\u001b[38;5;124m\"\u001b[39m)\n\u001b[0;32m--> 803\u001b[0m headers, wave, count_uncorr, blaze_uncorr, filenames_uncorr \u001b[38;5;241m=\u001b[39m \u001b[43mread_sp\u001b[49m\u001b[43m(\u001b[49m\u001b[43mpath\u001b[49m\u001b[43m,\u001b[49m\u001b[43m \u001b[49m\u001b[43mlist_e2ds\u001b[49m\u001b[43m,\u001b[49m\u001b[43m \u001b[49m\u001b[38;5;241;43m*\u001b[39;49m\u001b[38;5;241;43m*\u001b[39;49m\u001b[43mkwargs\u001b[49m\u001b[43m)\u001b[49m\n\u001b[1;32m    805\u001b[0m \u001b[38;5;28;01mif\u001b[39;00m list_tcorr \u001b[38;5;129;01mis\u001b[39;00m \u001b[38;5;28;01mNone\u001b[39;00m:\n\u001b[1;32m    806\u001b[0m     log\u001b[38;5;241m.\u001b[39minfo(\u001b[38;5;124m'\u001b[39m\u001b[38;5;124mNo telluric correction available\u001b[39m\u001b[38;5;124m'\u001b[39m)\n",
      "File \u001b[0;32m~/Github/starships/planet_obs.py:284\u001b[0m, in \u001b[0;36mread_all_sp_spirou_apero\u001b[0;34m(path, file_list, wv_default, blaze_default, blaze_path, debug, ver06, cheby)\u001b[0m\n\u001b[1;32m    282\u001b[0m     wv_file \u001b[38;5;241m=\u001b[39m wv_default \u001b[38;5;129;01mor\u001b[39;00m hdul[\u001b[38;5;241m0\u001b[39m]\u001b[38;5;241m.\u001b[39mheader[\u001b[38;5;124m'\u001b[39m\u001b[38;5;124mWAVEFILE\u001b[39m\u001b[38;5;124m'\u001b[39m]\n\u001b[1;32m    283\u001b[0m     \u001b[38;5;28;01mwith\u001b[39;00m fits\u001b[38;5;241m.\u001b[39mopen(path \u001b[38;5;241m/\u001b[39m Path(wv_file)) \u001b[38;5;28;01mas\u001b[39;00m f:\n\u001b[0;32m--> 284\u001b[0m           wvsol \u001b[38;5;241m=\u001b[39m \u001b[43mf\u001b[49m\u001b[43m[\u001b[49m\u001b[38;5;241;43m1\u001b[39;49m\u001b[43m]\u001b[49m\u001b[38;5;241m.\u001b[39mdata\n\u001b[1;32m    285\u001b[0m \u001b[38;5;28;01mexcept\u001b[39;00m (\u001b[38;5;167;01mKeyError\u001b[39;00m,\u001b[38;5;167;01mFileNotFoundError\u001b[39;00m) \u001b[38;5;28;01mas\u001b[39;00m e:\n\u001b[1;32m    286\u001b[0m     \u001b[38;5;28;01mif\u001b[39;00m cheby \u001b[38;5;129;01mis\u001b[39;00m \u001b[38;5;28;01mFalse\u001b[39;00m:\n",
      "File \u001b[0;32m~/HighRes/lib/python3.9/site-packages/astropy/io/fits/hdu/hdulist.py:324\u001b[0m, in \u001b[0;36mHDUList.__getitem__\u001b[0;34m(self, key)\u001b[0m\n\u001b[1;32m    321\u001b[0m \u001b[38;5;28;01mexcept\u001b[39;00m \u001b[38;5;167;01mIndexError\u001b[39;00m \u001b[38;5;28;01mas\u001b[39;00m e:\n\u001b[1;32m    322\u001b[0m     \u001b[38;5;66;03m# Raise a more helpful IndexError if the file was not fully read.\u001b[39;00m\n\u001b[1;32m    323\u001b[0m     \u001b[38;5;28;01mif\u001b[39;00m \u001b[38;5;28mself\u001b[39m\u001b[38;5;241m.\u001b[39m_read_all:\n\u001b[0;32m--> 324\u001b[0m         \u001b[38;5;28;01mraise\u001b[39;00m e\n\u001b[1;32m    325\u001b[0m     \u001b[38;5;28;01melse\u001b[39;00m:\n\u001b[1;32m    326\u001b[0m         \u001b[38;5;28;01mraise\u001b[39;00m \u001b[38;5;167;01mIndexError\u001b[39;00m(\u001b[38;5;124m'\u001b[39m\u001b[38;5;124mHDU not found, possibly because the index \u001b[39m\u001b[38;5;124m'\u001b[39m\n\u001b[1;32m    327\u001b[0m                          \u001b[38;5;124m'\u001b[39m\u001b[38;5;124mis out of range, or because the file was \u001b[39m\u001b[38;5;124m'\u001b[39m\n\u001b[1;32m    328\u001b[0m                          \u001b[38;5;124m'\u001b[39m\u001b[38;5;124mclosed before all HDUs were read\u001b[39m\u001b[38;5;124m'\u001b[39m)\n",
      "File \u001b[0;32m~/HighRes/lib/python3.9/site-packages/astropy/io/fits/hdu/hdulist.py:319\u001b[0m, in \u001b[0;36mHDUList.__getitem__\u001b[0;34m(self, key)\u001b[0m\n\u001b[1;32m    315\u001b[0m \u001b[38;5;66;03m# Originally this used recursion, but hypothetically an HDU with\u001b[39;00m\n\u001b[1;32m    316\u001b[0m \u001b[38;5;66;03m# a very large number of HDUs could blow the stack, so use a loop\u001b[39;00m\n\u001b[1;32m    317\u001b[0m \u001b[38;5;66;03m# instead\u001b[39;00m\n\u001b[1;32m    318\u001b[0m \u001b[38;5;28;01mtry\u001b[39;00m:\n\u001b[0;32m--> 319\u001b[0m     \u001b[38;5;28;01mreturn\u001b[39;00m \u001b[38;5;28;43mself\u001b[39;49m\u001b[38;5;241;43m.\u001b[39;49m\u001b[43m_try_while_unread_hdus\u001b[49m\u001b[43m(\u001b[49m\u001b[38;5;28;43msuper\u001b[39;49m\u001b[43m(\u001b[49m\u001b[43m)\u001b[49m\u001b[38;5;241;43m.\u001b[39;49m\u001b[38;5;21;43m__getitem__\u001b[39;49m\u001b[43m,\u001b[49m\n\u001b[1;32m    320\u001b[0m \u001b[43m                                       \u001b[49m\u001b[38;5;28;43mself\u001b[39;49m\u001b[38;5;241;43m.\u001b[39;49m\u001b[43m_positive_index_of\u001b[49m\u001b[43m(\u001b[49m\u001b[43mkey\u001b[49m\u001b[43m)\u001b[49m\u001b[43m)\u001b[49m\n\u001b[1;32m    321\u001b[0m \u001b[38;5;28;01mexcept\u001b[39;00m \u001b[38;5;167;01mIndexError\u001b[39;00m \u001b[38;5;28;01mas\u001b[39;00m e:\n\u001b[1;32m    322\u001b[0m     \u001b[38;5;66;03m# Raise a more helpful IndexError if the file was not fully read.\u001b[39;00m\n\u001b[1;32m    323\u001b[0m     \u001b[38;5;28;01mif\u001b[39;00m \u001b[38;5;28mself\u001b[39m\u001b[38;5;241m.\u001b[39m_read_all:\n",
      "File \u001b[0;32m~/HighRes/lib/python3.9/site-packages/astropy/io/fits/hdu/hdulist.py:1136\u001b[0m, in \u001b[0;36mHDUList._try_while_unread_hdus\u001b[0;34m(self, func, *args, **kwargs)\u001b[0m\n\u001b[1;32m   1134\u001b[0m \u001b[38;5;28;01mwhile\u001b[39;00m \u001b[38;5;28;01mTrue\u001b[39;00m:\n\u001b[1;32m   1135\u001b[0m     \u001b[38;5;28;01mtry\u001b[39;00m:\n\u001b[0;32m-> 1136\u001b[0m         \u001b[38;5;28;01mreturn\u001b[39;00m \u001b[43mfunc\u001b[49m\u001b[43m(\u001b[49m\u001b[38;5;241;43m*\u001b[39;49m\u001b[43margs\u001b[49m\u001b[43m,\u001b[49m\u001b[43m \u001b[49m\u001b[38;5;241;43m*\u001b[39;49m\u001b[38;5;241;43m*\u001b[39;49m\u001b[43mkwargs\u001b[49m\u001b[43m)\u001b[49m\n\u001b[1;32m   1137\u001b[0m     \u001b[38;5;28;01mexcept\u001b[39;00m \u001b[38;5;167;01mException\u001b[39;00m:\n\u001b[1;32m   1138\u001b[0m         \u001b[38;5;28;01mif\u001b[39;00m \u001b[38;5;28mself\u001b[39m\u001b[38;5;241m.\u001b[39m_read_next_hdu():\n",
      "\u001b[0;31mIndexError\u001b[0m: list index out of range"
     ]
    }
   ],
   "source": [
    "# SPECIFY PARAMETERS OF THE PLANET\n",
    "# If not specified, the default parameters from exofile are taken.\n",
    "\n",
    "# Most parameters from trappist.one website\n",
    "ap     = 0.01150*u.au       # semi-major axis of planet\n",
    "R_star = 0.121*u.R_sun      # radius of star\n",
    "R_pl   = 1.127*u.R_earth    # radius of planet\n",
    "M_star = 0.089*const.M_sun  # mass of star\n",
    "e      = 0                  # eccentricity\n",
    "w      = 4.712389*u.rad     # argument of periapsis (equal to 270 degrees)\n",
    "\n",
    "# Mid-transit time (BJD) of this visit\n",
    "mid_tr = 2458649.07123219*u.d  # calculated from Agol et al. 2021\n",
    "\n",
    "\n",
    "#--------------------------------------------------------------------------------------------\n",
    "\n",
    "\n",
    "obs = Observations(name=pl_name, \n",
    "                   pl_kwargs = {'M_star': M_star, \n",
    "                                'R_star': R_star,\n",
    "                                'ap': ap,\n",
    "                                'R_pl': R_pl,\n",
    "                                'mid_tr': mid_tr,\n",
    "                                'excent': e,\n",
    "                                'w': w})\n",
    "\n",
    "# Get the data\n",
    "obs.fetch_data(obs_dir, **list_filenames)\n",
    "p = obs.planet\n",
    "\n",
    "# Verify that the info is good\n",
    "print(\"M_star:\", M_star, \"\\t\", \"R_star:\", R_star, \"\\nap:\", ap, \"\\t\", \"R_pl:\", R_pl,  \"\\t\", \"mid_tr:\", mid_tr, \n",
    "      \"\\ne:\", e,  \"\\t\", \"w:\", w)"
   ]
  },
  {
   "cell_type": "markdown",
   "id": "a8f39e95",
   "metadata": {},
   "source": [
    "# Build transmission spectrum"
   ]
  },
  {
   "cell_type": "code",
   "execution_count": 22,
   "id": "b6449510",
   "metadata": {
    "tags": []
   },
   "outputs": [
    {
     "name": "stdout",
     "output_type": "stream",
     "text": [
      "Transmission\n",
      "Masking high variance pixels (quick fix for OH lines). \n",
      "flux_norm all nan : False\n",
      "Shifting everything in the stellar ref. frame and normalizing by the median \n",
      "Spectra \n",
      " Unberv : 48 - 15  \n",
      "Telluriques \n",
      " Unberv : 48 - 15  \n",
      "flux_Sref all nan : False\n",
      "Masking deep tellurics. \n",
      "flux_masked all nan : False\n",
      "Building the master out #1 \n",
      "ratio_filt has values <= 0.75!\n",
      "flux_norm_mo all nan : False\n",
      "master_out all nan : False\n",
      "Building the transmission spectrum #1 \n",
      "spec-trans all nan : False\n",
      "Removing the static noise with PCA and sigma cliping \n",
      "(16, 49, 4088)\n",
      "spec_trans all nan : False\n",
      "clean_ts all nan : False\n",
      "Removing the mean \n",
      "Removing the remaining high variance pixels. \n",
      "\n",
      "Removing the mean. \n",
      "Calculating noise with 1 PCs\n",
      "/scratch/mathisb/HRS_reductions/SPIRou/TRAPPIST-1b/v011/sequence_1-pc_mask_wings97_data_trs_night1.npz\n",
      "/scratch/mathisb/HRS_reductions/SPIRou/TRAPPIST-1b/v011/retrieval_input_1-pc_mask_wings97_data_info.npz\n",
      "/scratch/mathisb/HRS_reductions/SPIRou/TRAPPIST-1b/v011/retrieval_input_1-pc_mask_wings97_data_trs_0.npz\n"
     ]
    }
   ],
   "source": [
    "\"\"\"\n",
    "param_all: Reduction parameters\n",
    "telluric fraction to mask (usually varied between 0.2 and 0.5), \n",
    "limits for the wings, \n",
    "width of the smoothing kernel for the low pass filter (fixed at 51), \n",
    "useless param, \n",
    "width of the gaussian kernel for low pass filter (fixed at 5),\n",
    "nPC (nb of principal components) to remove (varied between 1 and 5),\n",
    "sigma clips params (fixed at 5.0)\n",
    "\"\"\"\n",
    "\n",
    "#--------------------------------------------------------------------------------------------\n",
    "# PARAMETERS TO CHANGE\n",
    "\n",
    "RVsys = [-52.003101]  # change to RV of star system\n",
    "kind_trans = 'transmission'  # emission or transmission\n",
    "coeffs = [0.02703969,  1.10037972, -0.96372403,  0.28750393]  # limb darkening coefficients\n",
    "ld_model = 'nonlinear'\n",
    "\n",
    "\n",
    "tellu_frac = 0.45  # telluric fraction to mask (usually varied between 0.2 and 0.5)\n",
    "nPC = [1]  # number of principal components to remove\n",
    "\n",
    "mask_wings = 0.97  # fraction of wings of deep tellurics that is masked\n",
    "\n",
    "#--------------------------------------------------------------------------------------------\n",
    "\n",
    "cbp = True  # correct bad pixels\n",
    "\n",
    "iout_all = ['all']\n",
    "polynome = [False] \n",
    "do_tr = [1]\n",
    "transit_tags = [None]  # use if want to remove spectra\n",
    "\n",
    "kwargs_gen_tr = {\n",
    "    'coeffs' : coeffs,\n",
    "    'ld_model' : ld_model,\n",
    "    'do_tr' : do_tr,\n",
    "    'kind_trans' : kind_trans,\n",
    "    'polynome' : polynome,\n",
    "    'cbp': cbp }\n",
    "\n",
    "kwargs_build_ts = {\n",
    "    'clip_ratio' : 6,\n",
    "    'clip_ts' : 6,\n",
    "    'unberv_it' : True }\n",
    "\n",
    "for n_pc in nPC:\n",
    "    params_all=[[tellu_frac, mask_wings, 51, 41, 5, n_pc, 5.0, 5.0, 5.0, 5.0]]\n",
    "    list_tr = pl_obs.generate_all_transits(obs, transit_tags, RVsys, params_all, iout_all,\n",
    "                                           **kwargs_gen_tr, **kwargs_build_ts)\n",
    "\n",
    "    # Save sequence with all reduction steps\n",
    "    out_filename = f'sequence_{n_pc}-pc_mask_wings{mask_wings*100:n}'\n",
    "    pl_obs.save_single_sequences(out_filename, list_tr['1'], path=out_dir,\n",
    "                                 filename_end=visit_name, save_all=True)\n",
    "    \n",
    "    # Save sequence with only the info needed for a retrieval (to compute log likelihood).\n",
    "    out_filename = f'retrieval_input_{n_pc}-pc_mask_wings{mask_wings*100:n}'\n",
    "    pl_obs.save_sequences(out_filename, list_tr, do_tr, path=out_dir)"
   ]
  },
  {
   "cell_type": "markdown",
   "id": "26fdc2bb",
   "metadata": {},
   "source": [
    "## That's it!"
   ]
  },
  {
   "cell_type": "code",
   "execution_count": 23,
   "id": "e9a55248",
   "metadata": {},
   "outputs": [
    {
     "name": "stdout",
     "output_type": "stream",
     "text": [
      "Mid-transit time (BJD): \t [2459514.80598483] d \n",
      "Radius of the star: \t\t [0.121] solRad \n",
      "Radius of the planet: \t\t [1.127] earthRad \n",
      "Observations in transit: \t [ 7  8  9 10] \n",
      "Observations out of transit: \t [ 0  1  2  3  4  5  6 11 12 13 14 15] \n",
      "Separation between planet and star: \n",
      " [4.50230374 3.98842203 3.47224653 2.95415633 2.43496409 1.91542418\n",
      " 1.39741032 0.88611543 0.4119805  0.32794193 0.77392786 1.28170719\n",
      " 1.79893794 2.31844711 2.83771907 3.35610423] R_star\n"
     ]
    }
   ],
   "source": [
    "# Verify if every parameter makes sense\n",
    "\n",
    "print(\"Mid-transit time (BJD):\", \"\\t\", p.mid_tr,\n",
    "      \"\\nRadius of the star:\", \"\\t\\t\", p.R_star.to(u.R_sun),\n",
    "      \"\\nRadius of the planet:\", \"\\t\\t\", p.R_pl.to(u.R_earth),\n",
    "      \"\\nObservations in transit:\", \"\\t\", obs.iIn,\n",
    "      \"\\nObservations out of transit:\", \"\\t\", obs.iOut,\n",
    "      \"\\nSeparation between planet and star:\", \"\\n\", (obs.sep / p.R_star), \"R_star\"\n",
    "     )"
   ]
  },
  {
   "cell_type": "code",
   "execution_count": null,
   "id": "3dec959e-1fbe-4929-a102-91022f722dae",
   "metadata": {},
   "outputs": [],
   "source": []
  }
 ],
 "metadata": {
  "kernelspec": {
   "display_name": "HighRes",
   "language": "python",
   "name": "highres"
  },
  "language_info": {
   "codemirror_mode": {
    "name": "ipython",
    "version": 3
   },
   "file_extension": ".py",
   "mimetype": "text/x-python",
   "name": "python",
   "nbconvert_exporter": "python",
   "pygments_lexer": "ipython3",
   "version": "3.9.6"
  }
 },
 "nbformat": 4,
 "nbformat_minor": 5
}
